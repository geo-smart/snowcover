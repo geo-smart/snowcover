{
 "cells": [
  {
   "cell_type": "code",
   "execution_count": 32,
   "metadata": {},
   "outputs": [],
   "source": [
    "import os\n",
    "import numpy as np\n",
    "from shapely.geometry import box\n",
    "from pyproj import Proj, transform\n",
    "import requests\n",
    "from io import BytesIO\n",
    "from PIL import Image\n",
    "\n",
    "# Define your AOI (Area of Interest)\n",
    "aoi = box(10.0, 20.0, 30.0, 40.0)  # Example bounding box\n",
    "\n",
    "with open(\"data/aoi.json\") as f:\n",
    "    geom = json.loads(f.read())"
   ]
  },
  {
   "cell_type": "code",
   "execution_count": 33,
   "metadata": {},
   "outputs": [],
   "source": [
    "aoi=shape(geom)"
   ]
  },
  {
   "cell_type": "code",
   "execution_count": 34,
   "metadata": {},
   "outputs": [
    {
     "data": {
      "text/plain": [
       "(-119.37088605887988,\n",
       " 37.89460211761832,\n",
       " -119.36955082659203,\n",
       " 37.89535678205063)"
      ]
     },
     "execution_count": 34,
     "metadata": {},
     "output_type": "execute_result"
    }
   ],
   "source": [
    "aoi.bounds"
   ]
  },
  {
   "cell_type": "code",
   "execution_count": 35,
   "metadata": {},
   "outputs": [
    {
     "name": "stderr",
     "output_type": "stream",
     "text": [
      "/srv/conda/envs/snow_mapping_env/lib/python3.8/site-packages/pyproj/crs/crs.py:141: FutureWarning: '+init=<authority>:<code>' syntax is deprecated. '<authority>:<code>' is the preferred initialization method. When making the change, be mindful of axis order changes: https://pyproj4.github.io/pyproj/stable/gotchas.html#axis-order-changes-in-proj-6\n",
      "  in_crs_string = _prepare_from_proj_string(in_crs_string)\n",
      "/srv/conda/envs/snow_mapping_env/lib/python3.8/site-packages/pyproj/crs/crs.py:141: FutureWarning: '+init=<authority>:<code>' syntax is deprecated. '<authority>:<code>' is the preferred initialization method. When making the change, be mindful of axis order changes: https://pyproj4.github.io/pyproj/stable/gotchas.html#axis-order-changes-in-proj-6\n",
      "  in_crs_string = _prepare_from_proj_string(in_crs_string)\n",
      "/tmp/ipykernel_5505/2228173639.py:5: FutureWarning: This function is deprecated. See: https://pyproj4.github.io/pyproj/stable/gotchas.html#upgrading-to-pyproj-2-from-pyproj-1\n",
      "  min_x, min_y = transform(in_proj, out_proj, min_lon, min_lat)\n",
      "/tmp/ipykernel_5505/2228173639.py:6: FutureWarning: This function is deprecated. See: https://pyproj4.github.io/pyproj/stable/gotchas.html#upgrading-to-pyproj-2-from-pyproj-1\n",
      "  max_x, max_y = transform(in_proj, out_proj, max_lon, max_lat)\n"
     ]
    },
    {
     "name": "stdout",
     "output_type": "stream",
     "text": [
      "Failed to retrieve snow depth data.\n"
     ]
    }
   ],
   "source": [
    "# Convert AOI to geographic coordinates\n",
    "in_proj = Proj(init='epsg:4326')\n",
    "out_proj = Proj(init='epsg:3411')  # NSIDC projection\n",
    "min_lon, min_lat, max_lon, max_lat = aoi.bounds\n",
    "min_x, min_y = transform(in_proj, out_proj, min_lon, min_lat)\n",
    "max_x, max_y = transform(in_proj, out_proj, max_lon, max_lat)\n",
    "bounding_box = f'{min_x},{min_y},{max_x},{max_y}'\n",
    "\n",
    "# NSIDC API endpoint and parameters\n",
    "api_url = 'https://n5eil02u.ecs.nsidc.org/egi/request'\n",
    "short_name = 'NSIDC-0729_2'\n",
    "version = '002'\n",
    "time_start = '2024-01-01T00:00:00Z'\n",
    "time_end = '2024-01-31T23:59:59Z'\n",
    "bounding_box = bounding_box\n",
    "format_ = 'GeoTIFF'\n",
    "projection = 'GEOGRAPHIC'\n",
    "size = '1000,1000'\n",
    "email = '@example.com'\n",
    "agent = 'Python'\n",
    "\n",
    "# Construct NSIDC API request\n",
    "request_params = {\n",
    "    'short_name': short_name,\n",
    "    'version': version,\n",
    "    'time': f'{time_start}/{time_end}',\n",
    "    'bounding_box': bounding_box,\n",
    "    'format': format_,\n",
    "    'projection': projection,\n",
    "    'size': size,\n",
    "    'email': email,\n",
    "    'agent': agent\n",
    "}\n",
    "\n",
    "# Send request to NSIDC API\n",
    "response = requests.get(api_url, params=request_params)\n",
    "\n",
    "# Check if request is successful\n",
    "if response.status_code == 200:\n",
    "    # Save retrieved data\n",
    "    with open('snow_depth_data.tif', 'wb') as f:\n",
    "        f.write(response.content)\n",
    "    print('Snow depth data downloaded successfully.')\n",
    "\n",
    "    # Example: Convert GeoTIFF to numpy array\n",
    "    snow_depth_image = Image.open(BytesIO(response.content))\n",
    "    snow_depth_array = np.array(snow_depth_image)\n",
    "\n",
    "    # Example: Thresholding to create ground truth data\n",
    "    snow_threshold = .10  # Adjust threshold as needed\n",
    "    ground_truth = np.where(snow_depth_array > snow_threshold, 1, 0)\n",
    "    np.save('ground_truth.npy', ground_truth)\n",
    "\n",
    "    print('Ground truth data created successfully.')\n",
    "\n",
    "else:\n",
    "    print('Failed to retrieve snow depth data.')\n"
   ]
  },
  {
   "cell_type": "code",
   "execution_count": 31,
   "metadata": {},
   "outputs": [],
   "source": [
    "# Once downloaded and want to threshold separtely"
   ]
  },
  {
   "cell_type": "code",
   "execution_count": null,
   "metadata": {},
   "outputs": [],
   "source": []
  }
 ],
 "metadata": {
  "kernelspec": {
   "display_name": "snow_mapping_env",
   "language": "python",
   "name": "snow_mapping_env"
  },
  "language_info": {
   "codemirror_mode": {
    "name": "ipython",
    "version": 3
   },
   "file_extension": ".py",
   "mimetype": "text/x-python",
   "name": "python",
   "nbconvert_exporter": "python",
   "pygments_lexer": "ipython3",
   "version": "3.8.19"
  }
 },
 "nbformat": 4,
 "nbformat_minor": 4
}
